{
 "cells": [
  {
   "cell_type": "code",
   "execution_count": 5,
   "metadata": {},
   "outputs": [],
   "source": [
    "from wand.image import Image as wand_image\n",
    "from PIL import Image as pil_image\n",
    "from glob import glob\n",
    "import os\n",
    "from pathlib import Path\n",
    "import traceback\n",
    "import numpy as np\n",
    "\n",
    "from bounded_pool_executor import BoundedProcessPoolExecutor\n",
    "import multiprocessing as mp"
   ]
  },
  {
   "cell_type": "code",
   "execution_count": 6,
   "metadata": {},
   "outputs": [
    {
     "data": {
      "text/plain": [
       "['mydog/alvan-nee-9M0tSjb-cpA-unsplash.jpeg',\n",
       " 'mydog/alvan-nee-brFsZ7qszSY-unsplash.jpeg',\n",
       " 'mydog/alvan-nee-Id1DBHv4fbg-unsplash.jpeg',\n",
       " 'mydog/alvan-nee-bQaAJCbNq3g-unsplash.jpeg',\n",
       " 'mydog/color-theme.psd',\n",
       " 'mydog/alvan-nee-eoqnr8ikwFE-unsplash.jpeg']"
      ]
     },
     "execution_count": 6,
     "metadata": {},
     "output_type": "execute_result"
    }
   ],
   "source": [
    "input_path = 'mydog/*'\n",
    "output_dir = 'mydog_cropped'\n",
    "\n",
    "Path(output_dir).mkdir(parents=True, exist_ok=True)\n",
    "\n",
    "file_list = glob(input_path)\n",
    "file_list"
   ]
  },
  {
   "cell_type": "code",
   "execution_count": 7,
   "metadata": {},
   "outputs": [],
   "source": [
    "def img_resize(file, size=512):\n",
    "    with pil_image.open(file) as im:\n",
    "        width, height = im.size\n",
    "        if width < height:\n",
    "            newWidth = size\n",
    "            newHeight = int(height / (width / size))\n",
    "            cropTop = (newHeight - size) // 2\n",
    "            cropBottom = cropTop + size\n",
    "            crop = (0, cropTop, size, cropBottom)\n",
    "        else:\n",
    "            newHeight = size\n",
    "            newWidth = int(width / (height / size))\n",
    "            cropLeft = (newWidth - size) // 2\n",
    "            cropRight = cropLeft + size\n",
    "            crop = (cropLeft, 0, cropRight, size)\n",
    "        imResize = im.resize((newWidth, newHeight))\n",
    "        imCrop = imResize.crop(crop)\n",
    "        basename = file.split('/')[-1].split('.')[0]\n",
    "        \n",
    "        imCrop.save(os.path.join(output_dir, \"{}_cropped.jpeg\".format(basename)))"
   ]
  },
  {
   "cell_type": "code",
   "execution_count": 8,
   "metadata": {},
   "outputs": [],
   "source": [
    "def psd_resize(file, size=512):\n",
    "    myImage = wand_image(filename=\"{}[0]\".format(file))\n",
    "    myImage.format = \"png\"\n",
    "\n",
    "    width, height = myImage.size\n",
    "    if width < height:\n",
    "        newWidth = size\n",
    "        newHeight = int(height / (width / size))\n",
    "    else:\n",
    "        newHeight = size\n",
    "        newWidth = int(width / (height / size))\n",
    "\n",
    "    myImage.resize(newWidth, newHeight)\n",
    "    # print(newWidth, newHeight)\n",
    "    myImage.crop(width=size, height=size, gravity=\"center\")\n",
    "    basename = file.split('/')[-1].split('.')[0]\n",
    "    \n",
    "    myImage.save(filename=os.path.join(output_dir, \"{}_cropped.png\".format(basename)))"
   ]
  },
  {
   "cell_type": "code",
   "execution_count": 9,
   "metadata": {},
   "outputs": [],
   "source": [
    "def handler(file_list):\n",
    "    for f in file_list:\n",
    "        try:\n",
    "            postfix = f.split('.')[-1]\n",
    "            if postfix == 'jpeg' or postfix == 'jpg' or postfix == 'png':\n",
    "                img_resize(f)\n",
    "            elif postfix == 'psd':\n",
    "                psd_resize(f)\n",
    "        except Exception:\n",
    "            print(postfix, f)\n",
    "            print(traceback.format_exc())"
   ]
  },
  {
   "cell_type": "code",
   "execution_count": 10,
   "metadata": {},
   "outputs": [],
   "source": [
    "def batch_run():\n",
    "    _PARALLEL = mp.cpu_count()\n",
    "    _LEN = len(file_list)\n",
    "    if _PARALLEL > _LEN:\n",
    "        _PARALLEL = _LEN\n",
    "\n",
    "    file_list_split = np.array_split(file_list, _PARALLEL)\n",
    "\n",
    "    with BoundedProcessPoolExecutor(max_workers=(_PARALLEL)) as executor:\n",
    "        _ = executor.map(handler, file_list_split)"
   ]
  },
  {
   "cell_type": "code",
   "execution_count": 11,
   "metadata": {},
   "outputs": [],
   "source": [
    "batch_run()"
   ]
  },
  {
   "cell_type": "code",
   "execution_count": null,
   "metadata": {},
   "outputs": [],
   "source": []
  }
 ],
 "metadata": {
  "kernelspec": {
   "display_name": "torch",
   "language": "python",
   "name": "python3"
  },
  "language_info": {
   "codemirror_mode": {
    "name": "ipython",
    "version": 3
   },
   "file_extension": ".py",
   "mimetype": "text/x-python",
   "name": "python",
   "nbconvert_exporter": "python",
   "pygments_lexer": "ipython3",
   "version": "3.10.9"
  },
  "orig_nbformat": 4
 },
 "nbformat": 4,
 "nbformat_minor": 2
}
